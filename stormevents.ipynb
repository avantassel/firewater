{
 "cells": [
  {
   "cell_type": "code",
   "execution_count": null,
   "metadata": {
    "collapsed": false
   },
   "outputs": [],
   "source": [
    "val conf = new org.apache.spark.SparkConf().setAppName(\"FireWater\")\n",
    "\n",
    "conf.setMaster(\"spark://169.54.219.20:8443\")\n",
    "conf.set(\"spark.ui.port\",\"8443\");\n",
    "conf.set(\"cloudant.host\",\"5a96fba5-a18f-4c28-b935-06dc8f5832cf-bluemix.cloudant.com\")\n",
    "conf.set(\"cloudant.username\", \"username\")\n",
    "conf.set(\"cloudant.password\",\"password\")\n",
    "\n",
    "// create Spark context and SQL context\n",
    "val sc = new org.apache.spark.SparkContext(conf)\n",
    "val sqlContext = new SQLContext(sc)\n",
    "import sqlContext._"
   ]
  },
  {
   "cell_type": "code",
   "execution_count": 2,
   "metadata": {
    "collapsed": true
   },
   "outputs": [],
   "source": [
    "sqlContext.sql(\"CREATE TEMPORARY TABLE stormTable USING com.cloudant.spark.CloudantRP OPTIONS ( database 'stormdata_geo'\")"
   ]
  },
  {
   "cell_type": "code",
   "execution_count": 3,
   "metadata": {
    "collapsed": true
   },
   "outputs": [],
   "source": [
    "val data = sqlContext.sql(\"SELECT EVENT_TYPE, COUNT(EVENT_TYPE) AS EventsCount FROM stormTable GROUP BY EVENT_TYPE\")"
   ]
  },
  {
   "cell_type": "code",
   "execution_count": 4,
   "metadata": {
    "collapsed": true
   },
   "outputs": [],
   "source": [
    "data.printSchema()"
   ]
  },
  {
   "cell_type": "code",
   "execution_count": 5,
   "metadata": {
    "collapsed": false
   },
   "outputs": [],
   "source": [
    "data.show()"
   ]
  },
  {
   "cell_type": "code",
   "execution_count": null,
   "metadata": {
    "collapsed": true
   },
   "outputs": [],
   "source": []
  }
 ],
 "metadata": {
  "kernelspec": {
   "display_name": "Scala 2.10",
   "language": "scala",
   "name": "spark"
  },
  "language_info": {
   "name": "scala"
  }
 },
 "nbformat": 4,
 "nbformat_minor": 0
}
